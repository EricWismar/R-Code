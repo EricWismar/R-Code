{
 "cells": [
  {
   "cell_type": "code",
   "execution_count": 3,
   "metadata": {},
   "outputs": [
    {
     "name": "stderr",
     "output_type": "stream",
     "text": [
      "Installing package into ‘/usr/local/lib/R/site-library’\n",
      "(as ‘lib’ is unspecified)\n",
      "\n"
     ]
    }
   ],
   "source": [
    "install.packages(\"phrs\")"
   ]
  },
  {
   "cell_type": "code",
   "execution_count": 35,
   "metadata": {},
   "outputs": [],
   "source": [
    "library(dplyr)\n",
    "library(ggplot2)\n",
    "library(phrs)\n",
    "library(getPass)\n",
    "library(DBI)\n",
    "library(odbc)"
   ]
  },
  {
   "cell_type": "code",
   "execution_count": 93,
   "metadata": {},
   "outputs": [
    {
     "name": "stdout",
     "output_type": "stream",
     "text": [
      "UID: ········\n",
      "PASSWORD: ········\n"
     ]
    }
   ],
   "source": [
    "# Load geodata -----------------------------------------------------------------\n",
    "\n",
    "# Connect to EDW and query for data\n",
    "\n",
    "conn <- DBI::dbConnect(\n",
    "  odbc::odbc(),\n",
    "  dsn = \"EDWP_USER\",\n",
    "  uid = getPass::getPass(\"UID: \"),\n",
    "  pwd = getPass::getPass(\"PASSWORD: \")\n",
    ")"
   ]
  },
  {
   "cell_type": "code",
   "execution_count": 75,
   "metadata": {},
   "outputs": [],
   "source": [
    "sql_file <- \"Vax_Outreach_Spend.sql\""
   ]
  },
  {
   "cell_type": "code",
   "execution_count": 106,
   "metadata": {},
   "outputs": [],
   "source": [
    "df <-\n",
    "  readChar(sql_file, file.info(sql_file)$size) %>%\n",
    "  strsplit(\";\", fixed = TRUE) %>%\n",
    "  .[[1]] %>%\n",
    "  lapply(., function(x) DBI::dbGetQuery(conn, x)) %>%\n",
    "  .[sapply(., nrow) > 0] %>%\n",
    "  .[[1]]"
   ]
  },
  {
   "cell_type": "code",
   "execution_count": 147,
   "metadata": {},
   "outputs": [],
   "source": [
    "DBI::dbDisconnect(conn)"
   ]
  },
  {
   "cell_type": "code",
   "execution_count": 148,
   "metadata": {},
   "outputs": [
    {
     "data": {
      "text/html": [
       "<table>\n",
       "<caption>A data.frame: 398427 x 13</caption>\n",
       "<thead>\n",
       "\t<tr><th scope=col>STATE_CODE</th><th scope=col>EDW_MEMBER_CK</th><th scope=col>MEMBER_CURR_CK</th><th scope=col>Sex</th><th scope=col>AGE</th><th scope=col>RACE</th><th scope=col>COVID_Risk_Reason</th><th scope=col>Product</th><th scope=col>IP_SPEND</th><th scope=col>ICU_SPEND</th><th scope=col>NON_ACUTE_SPEND</th><th scope=col>TOT_SPEND</th><th scope=col>Flagged_For_Outreach</th></tr>\n",
       "\t<tr><th scope=col>&lt;chr&gt;</th><th scope=col>&lt;dbl&gt;</th><th scope=col>&lt;dbl&gt;</th><th scope=col>&lt;chr&gt;</th><th scope=col>&lt;dbl&gt;</th><th scope=col>&lt;chr&gt;</th><th scope=col>&lt;chr&gt;</th><th scope=col>&lt;chr&gt;</th><th scope=col>&lt;dbl&gt;</th><th scope=col>&lt;dbl&gt;</th><th scope=col>&lt;dbl&gt;</th><th scope=col>&lt;dbl&gt;</th><th scope=col>&lt;int&gt;</th></tr>\n",
       "</thead>\n",
       "<tbody>\n",
       "\t<tr><td>GA</td><td>386026314</td><td>620888389</td><td>M</td><td>49</td><td>Hispanic                 </td><td>Kidney Disease        </td><td>Marketplace</td><td>0</td><td>    0.00</td><td> 537.74</td><td>  537.74</td><td>0</td></tr>\n",
       "\t<tr><td>FL</td><td> 43405059</td><td>277753526</td><td>M</td><td>49</td><td>Hispanic                 </td><td>Cancer                </td><td>Marketplace</td><td>0</td><td>    0.00</td><td> 143.26</td><td>  143.26</td><td>0</td></tr>\n",
       "\t<tr><td>NY</td><td>321327891</td><td>549705358</td><td>F</td><td>13</td><td>Unknown                  </td><td>Asthma                </td><td>TANF       </td><td>0</td><td>    0.00</td><td>  29.49</td><td>   29.49</td><td>0</td></tr>\n",
       "\t<tr><td>NY</td><td>324745379</td><td>553122846</td><td>M</td><td>26</td><td>White                    </td><td>Cardiac Condition     </td><td>TANF       </td><td>0</td><td>    0.00</td><td>  37.92</td><td>   37.92</td><td>0</td></tr>\n",
       "\t<tr><td>NY</td><td>422413868</td><td>648520335</td><td>F</td><td>60</td><td>White                    </td><td>Cardiac Condition     </td><td>TANF       </td><td>0</td><td>    0.00</td><td> 938.29</td><td>  938.29</td><td>0</td></tr>\n",
       "\t<tr><td>IA</td><td>354452040</td><td>582544507</td><td>F</td><td>49</td><td>White                    </td><td>Diabetes              </td><td>Expansion  </td><td>0</td><td>    0.00</td><td>   8.53</td><td>    8.53</td><td>0</td></tr>\n",
       "\t<tr><td>WA</td><td>382421746</td><td>610153213</td><td>M</td><td>59</td><td>Hispanic                 </td><td>Kidney Disease        </td><td>Expansion  </td><td>0</td><td>23661.23</td><td>1026.32</td><td>24687.55</td><td>0</td></tr>\n",
       "\t<tr><td>NY</td><td>321901936</td><td>550279403</td><td>F</td><td>37</td><td>Unknown                  </td><td>Obesity               </td><td>HARP       </td><td>0</td><td>    0.00</td><td> 237.33</td><td>  237.33</td><td>0</td></tr>\n",
       "\t<tr><td>NY</td><td>324548410</td><td>552925877</td><td>M</td><td>64</td><td>White                    </td><td>50 or older           </td><td>Marketplace</td><td>0</td><td>    0.00</td><td>  51.33</td><td>   51.33</td><td>0</td></tr>\n",
       "\t<tr><td>GA</td><td>376735716</td><td>604578183</td><td>F</td><td>39</td><td>White                    </td><td>Hypertension          </td><td>TANF       </td><td>0</td><td>    0.00</td><td> 286.25</td><td>  286.25</td><td>0</td></tr>\n",
       "\t<tr><td>NY</td><td>325131604</td><td>553509071</td><td>M</td><td>41</td><td>Hispanic                 </td><td>Hypertension          </td><td>Expansion  </td><td>0</td><td>    0.00</td><td>  51.31</td><td>   51.31</td><td>0</td></tr>\n",
       "\t<tr><td>NY</td><td>323970034</td><td>552347501</td><td>M</td><td>54</td><td>White                    </td><td>Diabetes              </td><td>TANF       </td><td>0</td><td>    0.00</td><td> 130.83</td><td>  130.83</td><td>0</td></tr>\n",
       "\t<tr><td>GA</td><td> 38608683</td><td>272957150</td><td>F</td><td>28</td><td>White                    </td><td>Asthma                </td><td>TANF       </td><td>0</td><td>    0.00</td><td> 633.74</td><td>  633.74</td><td>0</td></tr>\n",
       "\t<tr><td>OH</td><td> 53958312</td><td>288306779</td><td>M</td><td>74</td><td>Black or African American</td><td>Cancer                </td><td>ABD        </td><td>0</td><td> 7860.98</td><td>1647.70</td><td> 9508.68</td><td>0</td></tr>\n",
       "\t<tr><td>MS</td><td>386590420</td><td>614006887</td><td>F</td><td>49</td><td>Black or African American</td><td>No Elevated Risk      </td><td>Marketplace</td><td>0</td><td>    0.00</td><td> 113.01</td><td>  113.01</td><td>0</td></tr>\n",
       "\t<tr><td>NY</td><td>325409453</td><td>553786920</td><td>F</td><td> 6</td><td>Unknown                  </td><td>No Elevated Risk      </td><td>TANF       </td><td>0</td><td>    0.00</td><td> 100.00</td><td>  100.00</td><td>0</td></tr>\n",
       "\t<tr><td>CA</td><td>113597559</td><td>347488026</td><td>M</td><td>16</td><td>Unknown                  </td><td>No Elevated Risk      </td><td>TANF       </td><td>0</td><td>    0.00</td><td> 333.00</td><td>  333.00</td><td>0</td></tr>\n",
       "\t<tr><td>MO</td><td>183089798</td><td>415698265</td><td>F</td><td>19</td><td>Hispanic                 </td><td>No Elevated Risk      </td><td>TANF       </td><td>0</td><td>    0.00</td><td> 175.05</td><td>  175.05</td><td>0</td></tr>\n",
       "\t<tr><td>AR</td><td>386646857</td><td>614063324</td><td>M</td><td>53</td><td>White                    </td><td>Ischemic Heart Disease</td><td>Marketplace</td><td>0</td><td>    0.00</td><td>   0.00</td><td>    0.00</td><td>0</td></tr>\n",
       "\t<tr><td>FL</td><td>254991726</td><td>489614800</td><td>F</td><td>58</td><td>Hispanic                 </td><td>Cancer                </td><td>Marketplace</td><td>0</td><td>    0.00</td><td> 524.64</td><td>  524.64</td><td>0</td></tr>\n",
       "\t<tr><td>CA</td><td>276173424</td><td>505851891</td><td>F</td><td>31</td><td>Hispanic                 </td><td>No Elevated Risk      </td><td>Commercial </td><td>0</td><td>    0.00</td><td> 100.00</td><td>  100.00</td><td>0</td></tr>\n",
       "\t<tr><td>GA</td><td>294325464</td><td>530103640</td><td>F</td><td>21</td><td>Asian                    </td><td>No Elevated Risk      </td><td>Marketplace</td><td>0</td><td>    0.00</td><td> 308.32</td><td>  308.32</td><td>0</td></tr>\n",
       "\t<tr><td>TX</td><td>  2597995</td><td>241179814</td><td>M</td><td>17</td><td>White                    </td><td>Cardiac Condition     </td><td>Foster Care</td><td>0</td><td>    0.00</td><td> 112.18</td><td>  112.18</td><td>0</td></tr>\n",
       "\t<tr><td>AZ</td><td>300706160</td><td>530176627</td><td>F</td><td>35</td><td>Hispanic                 </td><td>Asthma                </td><td>TANF       </td><td>0</td><td>    0.00</td><td> 911.28</td><td>  911.28</td><td>0</td></tr>\n",
       "\t<tr><td>NY</td><td>323234048</td><td>551611515</td><td>M</td><td>57</td><td>Hispanic                 </td><td>Hypertension          </td><td>Expansion  </td><td>0</td><td>    0.00</td><td> 135.10</td><td>  135.10</td><td>0</td></tr>\n",
       "\t<tr><td>LA</td><td> 14651695</td><td>247647198</td><td>M</td><td>23</td><td>Black or African American</td><td>No Elevated Risk      </td><td>Expansion  </td><td>0</td><td>    0.00</td><td> 340.33</td><td>  340.33</td><td>0</td></tr>\n",
       "\t<tr><td>NY</td><td>319560383</td><td>547937850</td><td>F</td><td>23</td><td>Unknown                  </td><td>No Elevated Risk      </td><td>TANF       </td><td>0</td><td>    0.00</td><td>  82.64</td><td>   82.64</td><td>0</td></tr>\n",
       "\t<tr><td>TX</td><td> 14393692</td><td>246855253</td><td>M</td><td>19</td><td>Hispanic                 </td><td>No Elevated Risk      </td><td>TANF       </td><td>0</td><td>    0.00</td><td>  36.89</td><td>   36.89</td><td>0</td></tr>\n",
       "\t<tr><td>IA</td><td>354576681</td><td>582669148</td><td>M</td><td>33</td><td>White                    </td><td>Asthma                </td><td>Expansion  </td><td>0</td><td>    0.00</td><td>  91.03</td><td>   91.03</td><td>0</td></tr>\n",
       "\t<tr><td>NY</td><td>416625397</td><td>642802864</td><td>F</td><td>23</td><td>White                    </td><td>No Elevated Risk      </td><td>TANF       </td><td>0</td><td>    0.00</td><td>1267.77</td><td> 1267.77</td><td>0</td></tr>\n",
       "\t<tr><td>...</td><td>...</td><td>...</td><td>...</td><td>...</td><td>...</td><td>...</td><td>...</td><td>...</td><td>...</td><td>...</td><td>...</td><td>...</td></tr>\n",
       "\t<tr><td>GA</td><td>412045216</td><td>638350683</td><td>M</td><td> 0</td><td>White                    </td><td>No Elevated Risk         </td><td>TANF       </td><td>   0.00</td><td>    0.00</td><td>  70.85</td><td>   70.85</td><td>0</td></tr>\n",
       "\t<tr><td>IA</td><td>442049003</td><td>667799470</td><td>M</td><td>29</td><td>White                    </td><td>Diabetes                 </td><td>Expansion  </td><td>   0.00</td><td>    0.00</td><td> 100.00</td><td>  100.00</td><td>0</td></tr>\n",
       "\t<tr><td>MS</td><td>172357234</td><td>407612786</td><td>F</td><td>42</td><td>Black or African American</td><td>No Elevated Risk         </td><td>Marketplace</td><td>   0.00</td><td>    0.00</td><td> 242.59</td><td>  242.59</td><td>0</td></tr>\n",
       "\t<tr><td>AZ</td><td>412940988</td><td>639223455</td><td>M</td><td>57</td><td>White                    </td><td>50 or older              </td><td>Expansion  </td><td>   0.00</td><td>    0.00</td><td>  21.40</td><td>   21.40</td><td>0</td></tr>\n",
       "\t<tr><td>NY</td><td>374560903</td><td>602427370</td><td>F</td><td>37</td><td>White                    </td><td>Cardiac Condition        </td><td>Expansion  </td><td>   0.00</td><td>    0.00</td><td> 114.33</td><td>  114.33</td><td>1</td></tr>\n",
       "\t<tr><td>FL</td><td>289451650</td><td>518996117</td><td>M</td><td>77</td><td>Asian                    </td><td>Nursing Facility Resident</td><td>LTSS       </td><td>   0.00</td><td>    0.00</td><td>   0.00</td><td>    0.00</td><td>1</td></tr>\n",
       "\t<tr><td>TX</td><td>462222468</td><td>687951935</td><td>F</td><td>61</td><td>Hispanic                 </td><td>Nursing Facility Resident</td><td>LTSS       </td><td>   0.00</td><td>    0.00</td><td>   0.00</td><td>    0.00</td><td>1</td></tr>\n",
       "\t<tr><td>LA</td><td> 14570882</td><td>247309188</td><td>F</td><td>55</td><td>White                    </td><td>Diabetes                 </td><td>Expansion  </td><td>   0.00</td><td>    0.00</td><td> 100.00</td><td>  100.00</td><td>1</td></tr>\n",
       "\t<tr><td>NY</td><td>325364061</td><td>553741528</td><td>F</td><td>26</td><td>White                    </td><td>Diabetes                 </td><td>TANF       </td><td>   0.00</td><td>    0.00</td><td> 115.00</td><td>  115.00</td><td>1</td></tr>\n",
       "\t<tr><td>CA</td><td>425748579</td><td>651787046</td><td>M</td><td>71</td><td>White                    </td><td>Nursing Facility Resident</td><td>LTSS       </td><td>   0.00</td><td>    0.00</td><td>   0.00</td><td>    0.00</td><td>1</td></tr>\n",
       "\t<tr><td>GA</td><td> 11290060</td><td>237697848</td><td>F</td><td>32</td><td>White                    </td><td>Obesity                  </td><td>TANF       </td><td>   0.00</td><td>    0.00</td><td>   0.00</td><td>    0.00</td><td>1</td></tr>\n",
       "\t<tr><td>NY</td><td>322535710</td><td>550913177</td><td>F</td><td>33</td><td>Black or African American</td><td>Asthma                   </td><td>TANF       </td><td>   0.00</td><td>    0.00</td><td> 100.00</td><td>  100.00</td><td>1</td></tr>\n",
       "\t<tr><td>PA</td><td>251942440</td><td>483850907</td><td>F</td><td>25</td><td>White                    </td><td>Asthma                   </td><td>LTSS       </td><td> 704.59</td><td>    0.00</td><td>  65.82</td><td>  770.41</td><td>1</td></tr>\n",
       "\t<tr><td>NH</td><td> 45944516</td><td>280292983</td><td>F</td><td>58</td><td>White                    </td><td>Hypertension             </td><td>Expansion  </td><td>   0.00</td><td>    0.00</td><td>  96.72</td><td>   96.72</td><td>1</td></tr>\n",
       "\t<tr><td>SC</td><td> 70155936</td><td>304143403</td><td>F</td><td>57</td><td>White                    </td><td>COPD                     </td><td>ABD        </td><td>   0.00</td><td>    0.00</td><td>  71.30</td><td>   71.30</td><td>1</td></tr>\n",
       "\t<tr><td>PA</td><td>308333143</td><td>537432610</td><td>F</td><td>75</td><td>Black or African American</td><td>Heart Failure            </td><td>LTSS       </td><td>   0.00</td><td>    0.00</td><td>   0.00</td><td>    0.00</td><td>1</td></tr>\n",
       "\t<tr><td>NY</td><td>321071235</td><td>549448702</td><td>M</td><td>33</td><td>White                    </td><td>Asthma                   </td><td>TANF       </td><td>   0.00</td><td>    0.00</td><td>  71.22</td><td>   71.22</td><td>1</td></tr>\n",
       "\t<tr><td>NY</td><td>324783974</td><td>553161441</td><td>M</td><td>59</td><td>Unknown                  </td><td>Asthma                   </td><td>TANF       </td><td>   0.00</td><td>    0.00</td><td>  74.59</td><td>   74.59</td><td>1</td></tr>\n",
       "\t<tr><td>NY</td><td>424181535</td><td>650247002</td><td>M</td><td>56</td><td>White                    </td><td>COPD                     </td><td>ABD        </td><td>   0.00</td><td>    0.00</td><td>  47.61</td><td>   47.61</td><td>1</td></tr>\n",
       "\t<tr><td>NY</td><td>320960769</td><td>549338236</td><td>M</td><td>55</td><td>White                    </td><td>Kidney Disease           </td><td>TANF       </td><td>   0.00</td><td>    0.00</td><td> 170.69</td><td>  170.69</td><td>1</td></tr>\n",
       "\t<tr><td>CA</td><td>113434295</td><td>347324762</td><td>F</td><td>37</td><td>Hispanic                 </td><td>Asthma                   </td><td>Expansion  </td><td>   0.00</td><td>    0.00</td><td>  21.60</td><td>   21.60</td><td>1</td></tr>\n",
       "\t<tr><td>NY</td><td>342913934</td><td>571142401</td><td>F</td><td>61</td><td>Hispanic                 </td><td>Diabetes                 </td><td>Expansion  </td><td>   0.00</td><td>    0.00</td><td>  42.13</td><td>   42.13</td><td>1</td></tr>\n",
       "\t<tr><td>TX</td><td>  2868288</td><td>236206895</td><td>F</td><td>64</td><td>Hispanic                 </td><td>COPD                     </td><td>LTSS       </td><td>   0.00</td><td>    0.00</td><td>  69.37</td><td>   69.37</td><td>1</td></tr>\n",
       "\t<tr><td>LA</td><td> 14792567</td><td>247976400</td><td>F</td><td>62</td><td>Black or African American</td><td>COPD                     </td><td>ABD        </td><td>   0.00</td><td>    0.00</td><td> 388.21</td><td>  388.21</td><td>1</td></tr>\n",
       "\t<tr><td>CA</td><td>112758747</td><td>346649214</td><td>F</td><td>75</td><td>White                    </td><td>Nursing Facility Resident</td><td>LTSS       </td><td>1056.00</td><td>    0.00</td><td>   0.00</td><td> 1056.00</td><td>1</td></tr>\n",
       "\t<tr><td>TX</td><td> 15506973</td><td>249855440</td><td>F</td><td>43</td><td>Hispanic                 </td><td>Liver Disease            </td><td>TANF       </td><td>   0.00</td><td>    0.00</td><td>1325.18</td><td> 1325.18</td><td>1</td></tr>\n",
       "\t<tr><td>IN</td><td> 64615623</td><td>298721090</td><td>F</td><td>33</td><td>White                    </td><td>Kidney Disease           </td><td>Expansion  </td><td>   0.00</td><td>27765.35</td><td>3875.17</td><td>31640.52</td><td>1</td></tr>\n",
       "\t<tr><td>NY</td><td>320010729</td><td>548388196</td><td>M</td><td>63</td><td>White                    </td><td>Kidney Disease           </td><td>ABD        </td><td>   0.00</td><td>    0.00</td><td>  92.14</td><td>   92.14</td><td>1</td></tr>\n",
       "\t<tr><td>FL</td><td>330501881</td><td>559070264</td><td>F</td><td>56</td><td>Hispanic                 </td><td>Cancer                   </td><td>Marketplace</td><td>   0.00</td><td>    0.00</td><td> 100.00</td><td>  100.00</td><td>1</td></tr>\n",
       "\t<tr><td>NY</td><td>321713426</td><td>550090893</td><td>F</td><td>30</td><td>Unknown                  </td><td>Ischemic Heart Disease   </td><td>Expansion  </td><td>   0.00</td><td>    0.00</td><td>   0.00</td><td>    0.00</td><td>1</td></tr>\n",
       "</tbody>\n",
       "</table>\n"
      ],
      "text/latex": [
       "A data.frame: 398427 x 13\n",
       "\\begin{tabular}{lllllllllllll}\n",
       " STATE\\_CODE & EDW\\_MEMBER\\_CK & MEMBER\\_CURR\\_CK & Sex & AGE & RACE & COVID\\_Risk\\_Reason & Product & IP\\_SPEND & ICU\\_SPEND & NON\\_ACUTE\\_SPEND & TOT\\_SPEND & Flagged\\_For\\_Outreach\\\\\n",
       " <chr> & <dbl> & <dbl> & <chr> & <dbl> & <chr> & <chr> & <chr> & <dbl> & <dbl> & <dbl> & <dbl> & <int>\\\\\n",
       "\\hline\n",
       "\t GA & 386026314 & 620888389 & M & 49 & Hispanic                  & Kidney Disease         & Marketplace & 0 &     0.00 &  537.74 &   537.74 & 0\\\\\n",
       "\t FL &  43405059 & 277753526 & M & 49 & Hispanic                  & Cancer                 & Marketplace & 0 &     0.00 &  143.26 &   143.26 & 0\\\\\n",
       "\t NY & 321327891 & 549705358 & F & 13 & Unknown                   & Asthma                 & TANF        & 0 &     0.00 &   29.49 &    29.49 & 0\\\\\n",
       "\t NY & 324745379 & 553122846 & M & 26 & White                     & Cardiac Condition      & TANF        & 0 &     0.00 &   37.92 &    37.92 & 0\\\\\n",
       "\t NY & 422413868 & 648520335 & F & 60 & White                     & Cardiac Condition      & TANF        & 0 &     0.00 &  938.29 &   938.29 & 0\\\\\n",
       "\t IA & 354452040 & 582544507 & F & 49 & White                     & Diabetes               & Expansion   & 0 &     0.00 &    8.53 &     8.53 & 0\\\\\n",
       "\t WA & 382421746 & 610153213 & M & 59 & Hispanic                  & Kidney Disease         & Expansion   & 0 & 23661.23 & 1026.32 & 24687.55 & 0\\\\\n",
       "\t NY & 321901936 & 550279403 & F & 37 & Unknown                   & Obesity                & HARP        & 0 &     0.00 &  237.33 &   237.33 & 0\\\\\n",
       "\t NY & 324548410 & 552925877 & M & 64 & White                     & 50 or older            & Marketplace & 0 &     0.00 &   51.33 &    51.33 & 0\\\\\n",
       "\t GA & 376735716 & 604578183 & F & 39 & White                     & Hypertension           & TANF        & 0 &     0.00 &  286.25 &   286.25 & 0\\\\\n",
       "\t NY & 325131604 & 553509071 & M & 41 & Hispanic                  & Hypertension           & Expansion   & 0 &     0.00 &   51.31 &    51.31 & 0\\\\\n",
       "\t NY & 323970034 & 552347501 & M & 54 & White                     & Diabetes               & TANF        & 0 &     0.00 &  130.83 &   130.83 & 0\\\\\n",
       "\t GA &  38608683 & 272957150 & F & 28 & White                     & Asthma                 & TANF        & 0 &     0.00 &  633.74 &   633.74 & 0\\\\\n",
       "\t OH &  53958312 & 288306779 & M & 74 & Black or African American & Cancer                 & ABD         & 0 &  7860.98 & 1647.70 &  9508.68 & 0\\\\\n",
       "\t MS & 386590420 & 614006887 & F & 49 & Black or African American & No Elevated Risk       & Marketplace & 0 &     0.00 &  113.01 &   113.01 & 0\\\\\n",
       "\t NY & 325409453 & 553786920 & F &  6 & Unknown                   & No Elevated Risk       & TANF        & 0 &     0.00 &  100.00 &   100.00 & 0\\\\\n",
       "\t CA & 113597559 & 347488026 & M & 16 & Unknown                   & No Elevated Risk       & TANF        & 0 &     0.00 &  333.00 &   333.00 & 0\\\\\n",
       "\t MO & 183089798 & 415698265 & F & 19 & Hispanic                  & No Elevated Risk       & TANF        & 0 &     0.00 &  175.05 &   175.05 & 0\\\\\n",
       "\t AR & 386646857 & 614063324 & M & 53 & White                     & Ischemic Heart Disease & Marketplace & 0 &     0.00 &    0.00 &     0.00 & 0\\\\\n",
       "\t FL & 254991726 & 489614800 & F & 58 & Hispanic                  & Cancer                 & Marketplace & 0 &     0.00 &  524.64 &   524.64 & 0\\\\\n",
       "\t CA & 276173424 & 505851891 & F & 31 & Hispanic                  & No Elevated Risk       & Commercial  & 0 &     0.00 &  100.00 &   100.00 & 0\\\\\n",
       "\t GA & 294325464 & 530103640 & F & 21 & Asian                     & No Elevated Risk       & Marketplace & 0 &     0.00 &  308.32 &   308.32 & 0\\\\\n",
       "\t TX &   2597995 & 241179814 & M & 17 & White                     & Cardiac Condition      & Foster Care & 0 &     0.00 &  112.18 &   112.18 & 0\\\\\n",
       "\t AZ & 300706160 & 530176627 & F & 35 & Hispanic                  & Asthma                 & TANF        & 0 &     0.00 &  911.28 &   911.28 & 0\\\\\n",
       "\t NY & 323234048 & 551611515 & M & 57 & Hispanic                  & Hypertension           & Expansion   & 0 &     0.00 &  135.10 &   135.10 & 0\\\\\n",
       "\t LA &  14651695 & 247647198 & M & 23 & Black or African American & No Elevated Risk       & Expansion   & 0 &     0.00 &  340.33 &   340.33 & 0\\\\\n",
       "\t NY & 319560383 & 547937850 & F & 23 & Unknown                   & No Elevated Risk       & TANF        & 0 &     0.00 &   82.64 &    82.64 & 0\\\\\n",
       "\t TX &  14393692 & 246855253 & M & 19 & Hispanic                  & No Elevated Risk       & TANF        & 0 &     0.00 &   36.89 &    36.89 & 0\\\\\n",
       "\t IA & 354576681 & 582669148 & M & 33 & White                     & Asthma                 & Expansion   & 0 &     0.00 &   91.03 &    91.03 & 0\\\\\n",
       "\t NY & 416625397 & 642802864 & F & 23 & White                     & No Elevated Risk       & TANF        & 0 &     0.00 & 1267.77 &  1267.77 & 0\\\\\n",
       "\t ... & ... & ... & ... & ... & ... & ... & ... & ... & ... & ... & ... & ...\\\\\n",
       "\t GA & 412045216 & 638350683 & M &  0 & White                     & No Elevated Risk          & TANF        &    0.00 &     0.00 &   70.85 &    70.85 & 0\\\\\n",
       "\t IA & 442049003 & 667799470 & M & 29 & White                     & Diabetes                  & Expansion   &    0.00 &     0.00 &  100.00 &   100.00 & 0\\\\\n",
       "\t MS & 172357234 & 407612786 & F & 42 & Black or African American & No Elevated Risk          & Marketplace &    0.00 &     0.00 &  242.59 &   242.59 & 0\\\\\n",
       "\t AZ & 412940988 & 639223455 & M & 57 & White                     & 50 or older               & Expansion   &    0.00 &     0.00 &   21.40 &    21.40 & 0\\\\\n",
       "\t NY & 374560903 & 602427370 & F & 37 & White                     & Cardiac Condition         & Expansion   &    0.00 &     0.00 &  114.33 &   114.33 & 1\\\\\n",
       "\t FL & 289451650 & 518996117 & M & 77 & Asian                     & Nursing Facility Resident & LTSS        &    0.00 &     0.00 &    0.00 &     0.00 & 1\\\\\n",
       "\t TX & 462222468 & 687951935 & F & 61 & Hispanic                  & Nursing Facility Resident & LTSS        &    0.00 &     0.00 &    0.00 &     0.00 & 1\\\\\n",
       "\t LA &  14570882 & 247309188 & F & 55 & White                     & Diabetes                  & Expansion   &    0.00 &     0.00 &  100.00 &   100.00 & 1\\\\\n",
       "\t NY & 325364061 & 553741528 & F & 26 & White                     & Diabetes                  & TANF        &    0.00 &     0.00 &  115.00 &   115.00 & 1\\\\\n",
       "\t CA & 425748579 & 651787046 & M & 71 & White                     & Nursing Facility Resident & LTSS        &    0.00 &     0.00 &    0.00 &     0.00 & 1\\\\\n",
       "\t GA &  11290060 & 237697848 & F & 32 & White                     & Obesity                   & TANF        &    0.00 &     0.00 &    0.00 &     0.00 & 1\\\\\n",
       "\t NY & 322535710 & 550913177 & F & 33 & Black or African American & Asthma                    & TANF        &    0.00 &     0.00 &  100.00 &   100.00 & 1\\\\\n",
       "\t PA & 251942440 & 483850907 & F & 25 & White                     & Asthma                    & LTSS        &  704.59 &     0.00 &   65.82 &   770.41 & 1\\\\\n",
       "\t NH &  45944516 & 280292983 & F & 58 & White                     & Hypertension              & Expansion   &    0.00 &     0.00 &   96.72 &    96.72 & 1\\\\\n",
       "\t SC &  70155936 & 304143403 & F & 57 & White                     & COPD                      & ABD         &    0.00 &     0.00 &   71.30 &    71.30 & 1\\\\\n",
       "\t PA & 308333143 & 537432610 & F & 75 & Black or African American & Heart Failure             & LTSS        &    0.00 &     0.00 &    0.00 &     0.00 & 1\\\\\n",
       "\t NY & 321071235 & 549448702 & M & 33 & White                     & Asthma                    & TANF        &    0.00 &     0.00 &   71.22 &    71.22 & 1\\\\\n",
       "\t NY & 324783974 & 553161441 & M & 59 & Unknown                   & Asthma                    & TANF        &    0.00 &     0.00 &   74.59 &    74.59 & 1\\\\\n",
       "\t NY & 424181535 & 650247002 & M & 56 & White                     & COPD                      & ABD         &    0.00 &     0.00 &   47.61 &    47.61 & 1\\\\\n",
       "\t NY & 320960769 & 549338236 & M & 55 & White                     & Kidney Disease            & TANF        &    0.00 &     0.00 &  170.69 &   170.69 & 1\\\\\n",
       "\t CA & 113434295 & 347324762 & F & 37 & Hispanic                  & Asthma                    & Expansion   &    0.00 &     0.00 &   21.60 &    21.60 & 1\\\\\n",
       "\t NY & 342913934 & 571142401 & F & 61 & Hispanic                  & Diabetes                  & Expansion   &    0.00 &     0.00 &   42.13 &    42.13 & 1\\\\\n",
       "\t TX &   2868288 & 236206895 & F & 64 & Hispanic                  & COPD                      & LTSS        &    0.00 &     0.00 &   69.37 &    69.37 & 1\\\\\n",
       "\t LA &  14792567 & 247976400 & F & 62 & Black or African American & COPD                      & ABD         &    0.00 &     0.00 &  388.21 &   388.21 & 1\\\\\n",
       "\t CA & 112758747 & 346649214 & F & 75 & White                     & Nursing Facility Resident & LTSS        & 1056.00 &     0.00 &    0.00 &  1056.00 & 1\\\\\n",
       "\t TX &  15506973 & 249855440 & F & 43 & Hispanic                  & Liver Disease             & TANF        &    0.00 &     0.00 & 1325.18 &  1325.18 & 1\\\\\n",
       "\t IN &  64615623 & 298721090 & F & 33 & White                     & Kidney Disease            & Expansion   &    0.00 & 27765.35 & 3875.17 & 31640.52 & 1\\\\\n",
       "\t NY & 320010729 & 548388196 & M & 63 & White                     & Kidney Disease            & ABD         &    0.00 &     0.00 &   92.14 &    92.14 & 1\\\\\n",
       "\t FL & 330501881 & 559070264 & F & 56 & Hispanic                  & Cancer                    & Marketplace &    0.00 &     0.00 &  100.00 &   100.00 & 1\\\\\n",
       "\t NY & 321713426 & 550090893 & F & 30 & Unknown                   & Ischemic Heart Disease    & Expansion   &    0.00 &     0.00 &    0.00 &     0.00 & 1\\\\\n",
       "\\end{tabular}\n"
      ],
      "text/markdown": [
       "\n",
       "A data.frame: 398427 x 13\n",
       "\n",
       "| STATE_CODE &lt;chr&gt; | EDW_MEMBER_CK &lt;dbl&gt; | MEMBER_CURR_CK &lt;dbl&gt; | Sex &lt;chr&gt; | AGE &lt;dbl&gt; | RACE &lt;chr&gt; | COVID_Risk_Reason &lt;chr&gt; | Product &lt;chr&gt; | IP_SPEND &lt;dbl&gt; | ICU_SPEND &lt;dbl&gt; | NON_ACUTE_SPEND &lt;dbl&gt; | TOT_SPEND &lt;dbl&gt; | Flagged_For_Outreach &lt;int&gt; |\n",
       "|---|---|---|---|---|---|---|---|---|---|---|---|---|\n",
       "| GA | 386026314 | 620888389 | M | 49 | Hispanic                  | Kidney Disease         | Marketplace | 0 |     0.00 |  537.74 |   537.74 | 0 |\n",
       "| FL |  43405059 | 277753526 | M | 49 | Hispanic                  | Cancer                 | Marketplace | 0 |     0.00 |  143.26 |   143.26 | 0 |\n",
       "| NY | 321327891 | 549705358 | F | 13 | Unknown                   | Asthma                 | TANF        | 0 |     0.00 |   29.49 |    29.49 | 0 |\n",
       "| NY | 324745379 | 553122846 | M | 26 | White                     | Cardiac Condition      | TANF        | 0 |     0.00 |   37.92 |    37.92 | 0 |\n",
       "| NY | 422413868 | 648520335 | F | 60 | White                     | Cardiac Condition      | TANF        | 0 |     0.00 |  938.29 |   938.29 | 0 |\n",
       "| IA | 354452040 | 582544507 | F | 49 | White                     | Diabetes               | Expansion   | 0 |     0.00 |    8.53 |     8.53 | 0 |\n",
       "| WA | 382421746 | 610153213 | M | 59 | Hispanic                  | Kidney Disease         | Expansion   | 0 | 23661.23 | 1026.32 | 24687.55 | 0 |\n",
       "| NY | 321901936 | 550279403 | F | 37 | Unknown                   | Obesity                | HARP        | 0 |     0.00 |  237.33 |   237.33 | 0 |\n",
       "| NY | 324548410 | 552925877 | M | 64 | White                     | 50 or older            | Marketplace | 0 |     0.00 |   51.33 |    51.33 | 0 |\n",
       "| GA | 376735716 | 604578183 | F | 39 | White                     | Hypertension           | TANF        | 0 |     0.00 |  286.25 |   286.25 | 0 |\n",
       "| NY | 325131604 | 553509071 | M | 41 | Hispanic                  | Hypertension           | Expansion   | 0 |     0.00 |   51.31 |    51.31 | 0 |\n",
       "| NY | 323970034 | 552347501 | M | 54 | White                     | Diabetes               | TANF        | 0 |     0.00 |  130.83 |   130.83 | 0 |\n",
       "| GA |  38608683 | 272957150 | F | 28 | White                     | Asthma                 | TANF        | 0 |     0.00 |  633.74 |   633.74 | 0 |\n",
       "| OH |  53958312 | 288306779 | M | 74 | Black or African American | Cancer                 | ABD         | 0 |  7860.98 | 1647.70 |  9508.68 | 0 |\n",
       "| MS | 386590420 | 614006887 | F | 49 | Black or African American | No Elevated Risk       | Marketplace | 0 |     0.00 |  113.01 |   113.01 | 0 |\n",
       "| NY | 325409453 | 553786920 | F |  6 | Unknown                   | No Elevated Risk       | TANF        | 0 |     0.00 |  100.00 |   100.00 | 0 |\n",
       "| CA | 113597559 | 347488026 | M | 16 | Unknown                   | No Elevated Risk       | TANF        | 0 |     0.00 |  333.00 |   333.00 | 0 |\n",
       "| MO | 183089798 | 415698265 | F | 19 | Hispanic                  | No Elevated Risk       | TANF        | 0 |     0.00 |  175.05 |   175.05 | 0 |\n",
       "| AR | 386646857 | 614063324 | M | 53 | White                     | Ischemic Heart Disease | Marketplace | 0 |     0.00 |    0.00 |     0.00 | 0 |\n",
       "| FL | 254991726 | 489614800 | F | 58 | Hispanic                  | Cancer                 | Marketplace | 0 |     0.00 |  524.64 |   524.64 | 0 |\n",
       "| CA | 276173424 | 505851891 | F | 31 | Hispanic                  | No Elevated Risk       | Commercial  | 0 |     0.00 |  100.00 |   100.00 | 0 |\n",
       "| GA | 294325464 | 530103640 | F | 21 | Asian                     | No Elevated Risk       | Marketplace | 0 |     0.00 |  308.32 |   308.32 | 0 |\n",
       "| TX |   2597995 | 241179814 | M | 17 | White                     | Cardiac Condition      | Foster Care | 0 |     0.00 |  112.18 |   112.18 | 0 |\n",
       "| AZ | 300706160 | 530176627 | F | 35 | Hispanic                  | Asthma                 | TANF        | 0 |     0.00 |  911.28 |   911.28 | 0 |\n",
       "| NY | 323234048 | 551611515 | M | 57 | Hispanic                  | Hypertension           | Expansion   | 0 |     0.00 |  135.10 |   135.10 | 0 |\n",
       "| LA |  14651695 | 247647198 | M | 23 | Black or African American | No Elevated Risk       | Expansion   | 0 |     0.00 |  340.33 |   340.33 | 0 |\n",
       "| NY | 319560383 | 547937850 | F | 23 | Unknown                   | No Elevated Risk       | TANF        | 0 |     0.00 |   82.64 |    82.64 | 0 |\n",
       "| TX |  14393692 | 246855253 | M | 19 | Hispanic                  | No Elevated Risk       | TANF        | 0 |     0.00 |   36.89 |    36.89 | 0 |\n",
       "| IA | 354576681 | 582669148 | M | 33 | White                     | Asthma                 | Expansion   | 0 |     0.00 |   91.03 |    91.03 | 0 |\n",
       "| NY | 416625397 | 642802864 | F | 23 | White                     | No Elevated Risk       | TANF        | 0 |     0.00 | 1267.77 |  1267.77 | 0 |\n",
       "| ... | ... | ... | ... | ... | ... | ... | ... | ... | ... | ... | ... | ... |\n",
       "| GA | 412045216 | 638350683 | M |  0 | White                     | No Elevated Risk          | TANF        |    0.00 |     0.00 |   70.85 |    70.85 | 0 |\n",
       "| IA | 442049003 | 667799470 | M | 29 | White                     | Diabetes                  | Expansion   |    0.00 |     0.00 |  100.00 |   100.00 | 0 |\n",
       "| MS | 172357234 | 407612786 | F | 42 | Black or African American | No Elevated Risk          | Marketplace |    0.00 |     0.00 |  242.59 |   242.59 | 0 |\n",
       "| AZ | 412940988 | 639223455 | M | 57 | White                     | 50 or older               | Expansion   |    0.00 |     0.00 |   21.40 |    21.40 | 0 |\n",
       "| NY | 374560903 | 602427370 | F | 37 | White                     | Cardiac Condition         | Expansion   |    0.00 |     0.00 |  114.33 |   114.33 | 1 |\n",
       "| FL | 289451650 | 518996117 | M | 77 | Asian                     | Nursing Facility Resident | LTSS        |    0.00 |     0.00 |    0.00 |     0.00 | 1 |\n",
       "| TX | 462222468 | 687951935 | F | 61 | Hispanic                  | Nursing Facility Resident | LTSS        |    0.00 |     0.00 |    0.00 |     0.00 | 1 |\n",
       "| LA |  14570882 | 247309188 | F | 55 | White                     | Diabetes                  | Expansion   |    0.00 |     0.00 |  100.00 |   100.00 | 1 |\n",
       "| NY | 325364061 | 553741528 | F | 26 | White                     | Diabetes                  | TANF        |    0.00 |     0.00 |  115.00 |   115.00 | 1 |\n",
       "| CA | 425748579 | 651787046 | M | 71 | White                     | Nursing Facility Resident | LTSS        |    0.00 |     0.00 |    0.00 |     0.00 | 1 |\n",
       "| GA |  11290060 | 237697848 | F | 32 | White                     | Obesity                   | TANF        |    0.00 |     0.00 |    0.00 |     0.00 | 1 |\n",
       "| NY | 322535710 | 550913177 | F | 33 | Black or African American | Asthma                    | TANF        |    0.00 |     0.00 |  100.00 |   100.00 | 1 |\n",
       "| PA | 251942440 | 483850907 | F | 25 | White                     | Asthma                    | LTSS        |  704.59 |     0.00 |   65.82 |   770.41 | 1 |\n",
       "| NH |  45944516 | 280292983 | F | 58 | White                     | Hypertension              | Expansion   |    0.00 |     0.00 |   96.72 |    96.72 | 1 |\n",
       "| SC |  70155936 | 304143403 | F | 57 | White                     | COPD                      | ABD         |    0.00 |     0.00 |   71.30 |    71.30 | 1 |\n",
       "| PA | 308333143 | 537432610 | F | 75 | Black or African American | Heart Failure             | LTSS        |    0.00 |     0.00 |    0.00 |     0.00 | 1 |\n",
       "| NY | 321071235 | 549448702 | M | 33 | White                     | Asthma                    | TANF        |    0.00 |     0.00 |   71.22 |    71.22 | 1 |\n",
       "| NY | 324783974 | 553161441 | M | 59 | Unknown                   | Asthma                    | TANF        |    0.00 |     0.00 |   74.59 |    74.59 | 1 |\n",
       "| NY | 424181535 | 650247002 | M | 56 | White                     | COPD                      | ABD         |    0.00 |     0.00 |   47.61 |    47.61 | 1 |\n",
       "| NY | 320960769 | 549338236 | M | 55 | White                     | Kidney Disease            | TANF        |    0.00 |     0.00 |  170.69 |   170.69 | 1 |\n",
       "| CA | 113434295 | 347324762 | F | 37 | Hispanic                  | Asthma                    | Expansion   |    0.00 |     0.00 |   21.60 |    21.60 | 1 |\n",
       "| NY | 342913934 | 571142401 | F | 61 | Hispanic                  | Diabetes                  | Expansion   |    0.00 |     0.00 |   42.13 |    42.13 | 1 |\n",
       "| TX |   2868288 | 236206895 | F | 64 | Hispanic                  | COPD                      | LTSS        |    0.00 |     0.00 |   69.37 |    69.37 | 1 |\n",
       "| LA |  14792567 | 247976400 | F | 62 | Black or African American | COPD                      | ABD         |    0.00 |     0.00 |  388.21 |   388.21 | 1 |\n",
       "| CA | 112758747 | 346649214 | F | 75 | White                     | Nursing Facility Resident | LTSS        | 1056.00 |     0.00 |    0.00 |  1056.00 | 1 |\n",
       "| TX |  15506973 | 249855440 | F | 43 | Hispanic                  | Liver Disease             | TANF        |    0.00 |     0.00 | 1325.18 |  1325.18 | 1 |\n",
       "| IN |  64615623 | 298721090 | F | 33 | White                     | Kidney Disease            | Expansion   |    0.00 | 27765.35 | 3875.17 | 31640.52 | 1 |\n",
       "| NY | 320010729 | 548388196 | M | 63 | White                     | Kidney Disease            | ABD         |    0.00 |     0.00 |   92.14 |    92.14 | 1 |\n",
       "| FL | 330501881 | 559070264 | F | 56 | Hispanic                  | Cancer                    | Marketplace |    0.00 |     0.00 |  100.00 |   100.00 | 1 |\n",
       "| NY | 321713426 | 550090893 | F | 30 | Unknown                   | Ischemic Heart Disease    | Expansion   |    0.00 |     0.00 |    0.00 |     0.00 | 1 |\n",
       "\n"
      ],
      "text/plain": [
       "       STATE_CODE EDW_MEMBER_CK MEMBER_CURR_CK Sex AGE\n",
       "1      GA         386026314     620888389      M   49 \n",
       "2      FL          43405059     277753526      M   49 \n",
       "3      NY         321327891     549705358      F   13 \n",
       "4      NY         324745379     553122846      M   26 \n",
       "5      NY         422413868     648520335      F   60 \n",
       "6      IA         354452040     582544507      F   49 \n",
       "7      WA         382421746     610153213      M   59 \n",
       "8      NY         321901936     550279403      F   37 \n",
       "9      NY         324548410     552925877      M   64 \n",
       "10     GA         376735716     604578183      F   39 \n",
       "11     NY         325131604     553509071      M   41 \n",
       "12     NY         323970034     552347501      M   54 \n",
       "13     GA          38608683     272957150      F   28 \n",
       "14     OH          53958312     288306779      M   74 \n",
       "15     MS         386590420     614006887      F   49 \n",
       "16     NY         325409453     553786920      F    6 \n",
       "17     CA         113597559     347488026      M   16 \n",
       "18     MO         183089798     415698265      F   19 \n",
       "19     AR         386646857     614063324      M   53 \n",
       "20     FL         254991726     489614800      F   58 \n",
       "21     CA         276173424     505851891      F   31 \n",
       "22     GA         294325464     530103640      F   21 \n",
       "23     TX           2597995     241179814      M   17 \n",
       "24     AZ         300706160     530176627      F   35 \n",
       "25     NY         323234048     551611515      M   57 \n",
       "26     LA          14651695     247647198      M   23 \n",
       "27     NY         319560383     547937850      F   23 \n",
       "28     TX          14393692     246855253      M   19 \n",
       "29     IA         354576681     582669148      M   33 \n",
       "30     NY         416625397     642802864      F   23 \n",
       "...    ...        ...           ...            ... ...\n",
       "398398 GA         412045216     638350683      M    0 \n",
       "398399 IA         442049003     667799470      M   29 \n",
       "398400 MS         172357234     407612786      F   42 \n",
       "398401 AZ         412940988     639223455      M   57 \n",
       "398402 NY         374560903     602427370      F   37 \n",
       "398403 FL         289451650     518996117      M   77 \n",
       "398404 TX         462222468     687951935      F   61 \n",
       "398405 LA          14570882     247309188      F   55 \n",
       "398406 NY         325364061     553741528      F   26 \n",
       "398407 CA         425748579     651787046      M   71 \n",
       "398408 GA          11290060     237697848      F   32 \n",
       "398409 NY         322535710     550913177      F   33 \n",
       "398410 PA         251942440     483850907      F   25 \n",
       "398411 NH          45944516     280292983      F   58 \n",
       "398412 SC          70155936     304143403      F   57 \n",
       "398413 PA         308333143     537432610      F   75 \n",
       "398414 NY         321071235     549448702      M   33 \n",
       "398415 NY         324783974     553161441      M   59 \n",
       "398416 NY         424181535     650247002      M   56 \n",
       "398417 NY         320960769     549338236      M   55 \n",
       "398418 CA         113434295     347324762      F   37 \n",
       "398419 NY         342913934     571142401      F   61 \n",
       "398420 TX           2868288     236206895      F   64 \n",
       "398421 LA          14792567     247976400      F   62 \n",
       "398422 CA         112758747     346649214      F   75 \n",
       "398423 TX          15506973     249855440      F   43 \n",
       "398424 IN          64615623     298721090      F   33 \n",
       "398425 NY         320010729     548388196      M   63 \n",
       "398426 FL         330501881     559070264      F   56 \n",
       "398427 NY         321713426     550090893      F   30 \n",
       "       RACE                      COVID_Risk_Reason         Product     IP_SPEND\n",
       "1      Hispanic                  Kidney Disease            Marketplace 0       \n",
       "2      Hispanic                  Cancer                    Marketplace 0       \n",
       "3      Unknown                   Asthma                    TANF        0       \n",
       "4      White                     Cardiac Condition         TANF        0       \n",
       "5      White                     Cardiac Condition         TANF        0       \n",
       "6      White                     Diabetes                  Expansion   0       \n",
       "7      Hispanic                  Kidney Disease            Expansion   0       \n",
       "8      Unknown                   Obesity                   HARP        0       \n",
       "9      White                     50 or older               Marketplace 0       \n",
       "10     White                     Hypertension              TANF        0       \n",
       "11     Hispanic                  Hypertension              Expansion   0       \n",
       "12     White                     Diabetes                  TANF        0       \n",
       "13     White                     Asthma                    TANF        0       \n",
       "14     Black or African American Cancer                    ABD         0       \n",
       "15     Black or African American No Elevated Risk          Marketplace 0       \n",
       "16     Unknown                   No Elevated Risk          TANF        0       \n",
       "17     Unknown                   No Elevated Risk          TANF        0       \n",
       "18     Hispanic                  No Elevated Risk          TANF        0       \n",
       "19     White                     Ischemic Heart Disease    Marketplace 0       \n",
       "20     Hispanic                  Cancer                    Marketplace 0       \n",
       "21     Hispanic                  No Elevated Risk          Commercial  0       \n",
       "22     Asian                     No Elevated Risk          Marketplace 0       \n",
       "23     White                     Cardiac Condition         Foster Care 0       \n",
       "24     Hispanic                  Asthma                    TANF        0       \n",
       "25     Hispanic                  Hypertension              Expansion   0       \n",
       "26     Black or African American No Elevated Risk          Expansion   0       \n",
       "27     Unknown                   No Elevated Risk          TANF        0       \n",
       "28     Hispanic                  No Elevated Risk          TANF        0       \n",
       "29     White                     Asthma                    Expansion   0       \n",
       "30     White                     No Elevated Risk          TANF        0       \n",
       "...    ...                       ...                       ...         ...     \n",
       "398398 White                     No Elevated Risk          TANF           0.00 \n",
       "398399 White                     Diabetes                  Expansion      0.00 \n",
       "398400 Black or African American No Elevated Risk          Marketplace    0.00 \n",
       "398401 White                     50 or older               Expansion      0.00 \n",
       "398402 White                     Cardiac Condition         Expansion      0.00 \n",
       "398403 Asian                     Nursing Facility Resident LTSS           0.00 \n",
       "398404 Hispanic                  Nursing Facility Resident LTSS           0.00 \n",
       "398405 White                     Diabetes                  Expansion      0.00 \n",
       "398406 White                     Diabetes                  TANF           0.00 \n",
       "398407 White                     Nursing Facility Resident LTSS           0.00 \n",
       "398408 White                     Obesity                   TANF           0.00 \n",
       "398409 Black or African American Asthma                    TANF           0.00 \n",
       "398410 White                     Asthma                    LTSS         704.59 \n",
       "398411 White                     Hypertension              Expansion      0.00 \n",
       "398412 White                     COPD                      ABD            0.00 \n",
       "398413 Black or African American Heart Failure             LTSS           0.00 \n",
       "398414 White                     Asthma                    TANF           0.00 \n",
       "398415 Unknown                   Asthma                    TANF           0.00 \n",
       "398416 White                     COPD                      ABD            0.00 \n",
       "398417 White                     Kidney Disease            TANF           0.00 \n",
       "398418 Hispanic                  Asthma                    Expansion      0.00 \n",
       "398419 Hispanic                  Diabetes                  Expansion      0.00 \n",
       "398420 Hispanic                  COPD                      LTSS           0.00 \n",
       "398421 Black or African American COPD                      ABD            0.00 \n",
       "398422 White                     Nursing Facility Resident LTSS        1056.00 \n",
       "398423 Hispanic                  Liver Disease             TANF           0.00 \n",
       "398424 White                     Kidney Disease            Expansion      0.00 \n",
       "398425 White                     Kidney Disease            ABD            0.00 \n",
       "398426 Hispanic                  Cancer                    Marketplace    0.00 \n",
       "398427 Unknown                   Ischemic Heart Disease    Expansion      0.00 \n",
       "       ICU_SPEND NON_ACUTE_SPEND TOT_SPEND Flagged_For_Outreach\n",
       "1          0.00   537.74           537.74  0                   \n",
       "2          0.00   143.26           143.26  0                   \n",
       "3          0.00    29.49            29.49  0                   \n",
       "4          0.00    37.92            37.92  0                   \n",
       "5          0.00   938.29           938.29  0                   \n",
       "6          0.00     8.53             8.53  0                   \n",
       "7      23661.23  1026.32         24687.55  0                   \n",
       "8          0.00   237.33           237.33  0                   \n",
       "9          0.00    51.33            51.33  0                   \n",
       "10         0.00   286.25           286.25  0                   \n",
       "11         0.00    51.31            51.31  0                   \n",
       "12         0.00   130.83           130.83  0                   \n",
       "13         0.00   633.74           633.74  0                   \n",
       "14      7860.98  1647.70          9508.68  0                   \n",
       "15         0.00   113.01           113.01  0                   \n",
       "16         0.00   100.00           100.00  0                   \n",
       "17         0.00   333.00           333.00  0                   \n",
       "18         0.00   175.05           175.05  0                   \n",
       "19         0.00     0.00             0.00  0                   \n",
       "20         0.00   524.64           524.64  0                   \n",
       "21         0.00   100.00           100.00  0                   \n",
       "22         0.00   308.32           308.32  0                   \n",
       "23         0.00   112.18           112.18  0                   \n",
       "24         0.00   911.28           911.28  0                   \n",
       "25         0.00   135.10           135.10  0                   \n",
       "26         0.00   340.33           340.33  0                   \n",
       "27         0.00    82.64            82.64  0                   \n",
       "28         0.00    36.89            36.89  0                   \n",
       "29         0.00    91.03            91.03  0                   \n",
       "30         0.00  1267.77          1267.77  0                   \n",
       "...    ...       ...             ...       ...                 \n",
       "398398     0.00    70.85            70.85  0                   \n",
       "398399     0.00   100.00           100.00  0                   \n",
       "398400     0.00   242.59           242.59  0                   \n",
       "398401     0.00    21.40            21.40  0                   \n",
       "398402     0.00   114.33           114.33  1                   \n",
       "398403     0.00     0.00             0.00  1                   \n",
       "398404     0.00     0.00             0.00  1                   \n",
       "398405     0.00   100.00           100.00  1                   \n",
       "398406     0.00   115.00           115.00  1                   \n",
       "398407     0.00     0.00             0.00  1                   \n",
       "398408     0.00     0.00             0.00  1                   \n",
       "398409     0.00   100.00           100.00  1                   \n",
       "398410     0.00    65.82           770.41  1                   \n",
       "398411     0.00    96.72            96.72  1                   \n",
       "398412     0.00    71.30            71.30  1                   \n",
       "398413     0.00     0.00             0.00  1                   \n",
       "398414     0.00    71.22            71.22  1                   \n",
       "398415     0.00    74.59            74.59  1                   \n",
       "398416     0.00    47.61            47.61  1                   \n",
       "398417     0.00   170.69           170.69  1                   \n",
       "398418     0.00    21.60            21.60  1                   \n",
       "398419     0.00    42.13            42.13  1                   \n",
       "398420     0.00    69.37            69.37  1                   \n",
       "398421     0.00   388.21           388.21  1                   \n",
       "398422     0.00     0.00          1056.00  1                   \n",
       "398423     0.00  1325.18          1325.18  1                   \n",
       "398424 27765.35  3875.17         31640.52  1                   \n",
       "398425     0.00    92.14            92.14  1                   \n",
       "398426     0.00   100.00           100.00  1                   \n",
       "398427     0.00     0.00             0.00  1                   "
      ]
     },
     "metadata": {},
     "output_type": "display_data"
    }
   ],
   "source": [
    "df"
   ]
  },
  {
   "cell_type": "code",
   "execution_count": 149,
   "metadata": {},
   "outputs": [],
   "source": [
    "Outreach<-filter(df, Flagged_For_Outreach == 1)\n",
    "NoOut<-filter(df, Flagged_For_Outreach == 0)"
   ]
  },
  {
   "cell_type": "code",
   "execution_count": 151,
   "metadata": {},
   "outputs": [
    {
     "name": "stderr",
     "output_type": "stream",
     "text": [
      "Intesection size = 0.95 (0 is worst, 1 is best.)\n",
      "\n",
      "Expected acceptance rate = 0.006 (Very low values may indicate a problem.)\n",
      "\n",
      "Jensen-Shannon divergence = 0.01906  (0 is best.)\n",
      "\n"
     ]
    }
   ],
   "source": [
    "control_sample <- ph_rej_sample(NoOut,Outreach, c(\"AGE\", \"Sex\", \"RACE\",\"Product\",\"STATE_CODE\"), 60000)"
   ]
  },
  {
   "cell_type": "code",
   "execution_count": 152,
   "metadata": {},
   "outputs": [
    {
     "data": {
      "text/html": [
       "39664"
      ],
      "text/latex": [
       "39664"
      ],
      "text/markdown": [
       "39664"
      ],
      "text/plain": [
       "[1] 39664"
      ]
     },
     "metadata": {},
     "output_type": "display_data"
    }
   ],
   "source": [
    "length(unique(control_sample$EDW_MEMBER_CK))"
   ]
  },
  {
   "cell_type": "code",
   "execution_count": 153,
   "metadata": {},
   "outputs": [
    {
     "data": {
      "text/plain": [
       "   STATE_CODE    EDW_MEMBER_CK       MEMBER_CURR_CK        Sex       \n",
       " NY     :26032   Min.   :    27812   Min.   :    27812   F   :41973  \n",
       " TX     : 7360   1st Qu.:173934175   1st Qu.:413499138   M   :18003  \n",
       " CA     : 5240   Median :321252452   Median :549652452   NA's:   24  \n",
       " FL     : 4371   Mean   :271883175   Mean   :499856412               \n",
       " LA     : 2439   3rd Qu.:354432508   3rd Qu.:582530451               \n",
       " (Other):14534   Max.   :531563215   Max.   :756606682               \n",
       " NA's   :   24   NA's   :24          NA's   :24                      \n",
       "      AGE                                RACE      \n",
       " Min.   : 16.00   Asian                    : 2841  \n",
       " 1st Qu.: 42.00   Black or African American: 8067  \n",
       " Median : 55.00   Hispanic                 :17161  \n",
       " Mean   : 53.27   Unknown                  : 1265  \n",
       " 3rd Qu.: 63.00   White                    :30642  \n",
       " Max.   :102.00   NA's                     :   24  \n",
       " NA's   :24                                        \n",
       "                 COVID_Risk_Reason        Product         IP_SPEND       \n",
       " No Elevated Risk         : 9530   TANF       :18408   Min.   :     0.0  \n",
       " Hypertension             : 5716   LTSS       :11324   1st Qu.:     0.0  \n",
       " Nursing Facility Resident: 5447   Expansion  : 8400   Median :     0.0  \n",
       " COPD                     : 4387   ABD        : 8107   Mean   :   569.6  \n",
       " Asthma                   : 4341   Marketplace: 5826   3rd Qu.:     0.0  \n",
       " (Other)                  :30555   (Other)    : 7911   Max.   :136000.0  \n",
       " NA's                     :   24   NA's       :   24   NA's   :24        \n",
       "   ICU_SPEND         NON_ACUTE_SPEND      TOT_SPEND        \n",
       " Min.   :      0.0   Min.   :    0.00   Min.   :      0.0  \n",
       " 1st Qu.:      0.0   1st Qu.:   41.03   1st Qu.:     42.1  \n",
       " Median :      0.0   Median :  103.00   Median :    113.0  \n",
       " Mean   :    396.4   Mean   :  307.52   Mean   :   1273.4  \n",
       " 3rd Qu.:      0.0   3rd Qu.:  248.83   3rd Qu.:    288.0  \n",
       " Max.   :1482312.4   Max.   :94038.66   Max.   :1561637.0  \n",
       " NA's   :24          NA's   :24         NA's   :24         \n",
       " Flagged_For_Outreach\n",
       " Min.   :0           \n",
       " 1st Qu.:0           \n",
       " Median :0           \n",
       " Mean   :0           \n",
       " 3rd Qu.:0           \n",
       " Max.   :0           \n",
       " NA's   :24          "
      ]
     },
     "metadata": {},
     "output_type": "display_data"
    }
   ],
   "source": [
    "summary(control_sample)"
   ]
  },
  {
   "cell_type": "code",
   "execution_count": 140,
   "metadata": {},
   "outputs": [
    {
     "data": {
      "text/plain": [
       "   STATE_CODE    EDW_MEMBER_CK       MEMBER_CURR_CK      Sex      \n",
       " NY     :24121   Min.   :    24185   Min.   :    24185   F:41194  \n",
       " TX     : 6120   1st Qu.:215324595   1st Qu.:451675944   M:15234  \n",
       " CA     : 4725   Median :321365888   Median :549772049            \n",
       " FL     : 3545   Mean   :275704575   Mean   :503932197            \n",
       " LA     : 2699   3rd Qu.:360325166   3rd Qu.:588641283            \n",
       " GA     : 2507   Max.   :533736862   Max.   :758766329            \n",
       " (Other):12711                                                    \n",
       "      AGE                                RACE      \n",
       " Min.   : 16.00   Asian                    : 2805  \n",
       " 1st Qu.: 37.00   Black or African American: 6837  \n",
       " Median : 51.00   Hispanic                 :16426  \n",
       " Mean   : 50.16   Unknown                  : 1269  \n",
       " 3rd Qu.: 61.00   White                    :29091  \n",
       " Max.   :102.00                                    \n",
       "                                                   \n",
       "                 COVID_Risk_Reason        Product         IP_SPEND       \n",
       " No Elevated Risk         :11988   TANF       :22104   Min.   :     0.0  \n",
       " Hypertension             : 5233   Expansion  : 9798   1st Qu.:     0.0  \n",
       " 50 or older              : 4233   Marketplace: 7721   Median :     0.0  \n",
       " Asthma                   : 3980   LTSS       : 7380   Mean   :   501.4  \n",
       " Nursing Facility Resident: 3972   ABD        : 4837   3rd Qu.:     0.0  \n",
       " COPD                     : 3333   Medicare   : 1392   Max.   :515937.5  \n",
       " (Other)                  :23689   (Other)    : 3196                     \n",
       "   ICU_SPEND         NON_ACUTE_SPEND      TOT_SPEND        \n",
       " Min.   :      0.0   Min.   :    0.00   Min.   :      0.0  \n",
       " 1st Qu.:      0.0   1st Qu.:   42.13   1st Qu.:     45.8  \n",
       " Median :      0.0   Median :  110.00   Median :    115.6  \n",
       " Mean   :    439.3   Mean   :  323.22   Mean   :   1263.9  \n",
       " 3rd Qu.:      0.0   3rd Qu.:  253.22   3rd Qu.:    280.1  \n",
       " Max.   :1482312.4   Max.   :94038.66   Max.   :1561637.0  \n",
       "                                                           \n",
       " Flagged_For_Outreach    matched \n",
       " Min.   :0            Min.   :1  \n",
       " 1st Qu.:0            1st Qu.:1  \n",
       " Median :0            Median :1  \n",
       " Mean   :0            Mean   :1  \n",
       " 3rd Qu.:0            3rd Qu.:1  \n",
       " Max.   :0            Max.   :1  \n",
       "                                 "
      ]
     },
     "metadata": {},
     "output_type": "display_data"
    }
   ],
   "source": [
    "summary(unique_control)"
   ]
  },
  {
   "cell_type": "code",
   "execution_count": 141,
   "metadata": {},
   "outputs": [
    {
     "data": {
      "image/png": "[encoded data removed]",
      "text/plain": [
       "plot without title"
      ]
     },
     "metadata": {
      "image/png": {
       "height": 420,
       "width": 420
      }
     },
     "output_type": "display_data"
    }
   ],
   "source": [
    "ggplot(unique_control) + geom_bar(aes(x = AGE))"
   ]
  },
  {
   "cell_type": "code",
   "execution_count": 142,
   "metadata": {},
   "outputs": [
    {
     "data": {
      "image/png": "[encoded data removed]",
      "text/plain": [
       "plot without title"
      ]
     },
     "metadata": {
      "image/png": {
       "height": 420,
       "width": 420
      }
     },
     "output_type": "display_data"
    }
   ],
   "source": [
    "ggplot(control_sample) + geom_bar(aes(x = AGE))"
   ]
  },
  {
   "cell_type": "code",
   "execution_count": 100,
   "metadata": {},
   "outputs": [
    {
     "data": {
      "image/png": "[encoded data removed]",
      "text/plain": [
       "plot without title"
      ]
     },
     "metadata": {
      "image/png": {
       "height": 420,
       "width": 420
      }
     },
     "output_type": "display_data"
    }
   ],
   "source": [
    "ggplot(Outreach) + geom_bar(aes(x = STATE_CODE))"
   ]
  },
  {
   "cell_type": "code",
   "execution_count": 118,
   "metadata": {},
   "outputs": [],
   "source": [
    "#unique_control<-unique(control_sample)"
   ]
  },
  {
   "cell_type": "code",
   "execution_count": 154,
   "metadata": {},
   "outputs": [],
   "source": [
    "control_sample$matched<-1"
   ]
  },
  {
   "cell_type": "code",
   "execution_count": 155,
   "metadata": {},
   "outputs": [],
   "source": [
    "df2<-merge(x = df, y = control_sample[ , c(\"EDW_MEMBER_CK\", \"matched\")], by = \"EDW_MEMBER_CK\", all.x=TRUE)"
   ]
  },
  {
   "cell_type": "code",
   "execution_count": 156,
   "metadata": {},
   "outputs": [],
   "source": [
    "df2$matched[is.na(df2$matched)] <- 0\n",
    "df2$matched[df2$Flagged_For_Outreach == 1] <- 1   "
   ]
  },
  {
   "cell_type": "code",
   "execution_count": 157,
   "metadata": {},
   "outputs": [],
   "source": [
    "write.csv(df2,'matched_control_sample.csv',row.names = FALSE)"
   ]
  }
 ],
 "metadata": {
  "kernelspec": {
   "display_name": "R 3.6",
   "language": "R",
   "name": "ir36"
  },
  "language_info": {
   "codemirror_mode": "r",
   "file_extension": ".r",
   "mimetype": "text/x-r-source",
   "name": "R",
   "pygments_lexer": "r",
   "version": "3.6.3"
  }
 },
 "nbformat": 4,
 "nbformat_minor": 4
}
