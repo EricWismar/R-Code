{
 "cells": [
  {
   "cell_type": "code",
   "execution_count": null,
   "metadata": {},
   "outputs": [],
   "source": [
    "!sudo apt-get install libudunits2-dev\n"
   ]
  },
  {
   "cell_type": "code",
   "execution_count": 1,
   "metadata": {},
   "outputs": [
    {
     "name": "stderr",
     "output_type": "stream",
     "text": [
      "Installing packages into ‘/usr/local/lib/R/site-library’\n",
      "(as ‘lib’ is unspecified)\n",
      "\n",
      "also installing the dependencies ‘aws.signature’, ‘RgoogleMaps’, ‘units’, ‘aws.s3’\n",
      "\n",
      "\n"
     ]
    }
   ],
   "source": [
    "install.packages(c('ggmap','sf','pht','odbc'))\n"
   ]
  },
  {
   "cell_type": "code",
   "execution_count": 2,
   "metadata": {},
   "outputs": [
    {
     "name": "stderr",
     "output_type": "stream",
     "text": [
      "Google's Terms of Service: https://cloud.google.com/maps-platform/terms/.\n",
      "\n",
      "Please cite ggmap if you use it! See citation(\"ggmap\") for details.\n",
      "\n",
      "Linking to GEOS 3.6.2, GDAL 2.2.3, PROJ 4.9.3\n",
      "\n",
      "\n",
      "Attaching package: ‘dplyr’\n",
      "\n",
      "\n",
      "The following objects are masked from ‘package:stats’:\n",
      "\n",
      "    filter, lag\n",
      "\n",
      "\n",
      "The following objects are masked from ‘package:base’:\n",
      "\n",
      "    intersect, setdiff, setequal, union\n",
      "\n",
      "\n"
     ]
    }
   ],
   "source": [
    "library(ggplot2)\n",
    "library(ggmap)\n",
    "library(sf)\n",
    "\n",
    "library(dplyr)\n",
    "\n",
    "library(pht)\n",
    "\n",
    "library(DBI)\n",
    "library(odbc)"
   ]
  },
  {
   "cell_type": "code",
   "execution_count": 3,
   "metadata": {},
   "outputs": [],
   "source": [
    "library(getPass)"
   ]
  },
  {
   "cell_type": "code",
   "execution_count": 4,
   "metadata": {},
   "outputs": [
    {
     "name": "stdout",
     "output_type": "stream",
     "text": [
      "UID: ········\n",
      "PASSWORD: ········\n"
     ]
    }
   ],
   "source": [
    "# Load geodata -----------------------------------------------------------------\n",
    "\n",
    "# Connect to EDW and query for data\n",
    "\n",
    "conn <- DBI::dbConnect(\n",
    "  odbc::odbc(),\n",
    "  dsn = \"EDWP_USER\",\n",
    "  uid = getPass::getPass(\"UID: \"),\n",
    "  pwd = getPass::getPass(\"PASSWORD: \")\n",
    ")"
   ]
  },
  {
   "cell_type": "code",
   "execution_count": null,
   "metadata": {},
   "outputs": [],
   "source": [
    "sql_file <- \"member_geo.sql\""
   ]
  },
  {
   "cell_type": "code",
   "execution_count": null,
   "metadata": {},
   "outputs": [],
   "source": [
    "# Expecting these fields (named exactly):\n",
    "# lat\n",
    "# lon\n",
    "map_geo <-\n",
    "  readChar(sql_file, file.info(sql_file)$size) %>%\n",
    "  strsplit(\";\", fixed = TRUE) %>%\n",
    "  .[[1]] %>%\n",
    "  lapply(., function(x) DBI::dbGetQuery(conn, x)) %>%\n",
    "  .[sapply(., nrow) > 0] %>%\n",
    "  .[[1]]\n",
    "\n",
    "DBI::dbDisconnect(conn)"
   ]
  },
  {
   "cell_type": "code",
   "execution_count": null,
   "metadata": {},
   "outputs": [],
   "source": [
    "map_geo <- sf::st_as_sf(map_geo, coords = c(\"lon\", \"lat\"), remove = FALSE)"
   ]
  },
  {
   "cell_type": "code",
   "execution_count": null,
   "metadata": {},
   "outputs": [],
   "source": [
    "# Transform data ---------------------------------------------------------------\n",
    "\n",
    "# Create the Walmart feature.\n",
    "walmart <- sf::st_as_sf(data.frame(x = -90.13230, y = 32.40148),\n",
    "                        coords = c(\"x\", \"y\"),\n",
    "                        remove = FALSE)\n",
    "st_crs(walmart) <- 4326"
   ]
  },
  {
   "cell_type": "code",
   "execution_count": null,
   "metadata": {},
   "outputs": [],
   "source": [
    "# Make a map -------------------------------------------------------------------\n",
    "\n",
    "# Provide some buffer around the edges of the map\n",
    "bbox <- unname(st_bbox(map_geo) + c(-.03, -.03, .03, .03))"
   ]
  },
  {
   "cell_type": "code",
   "execution_count": null,
   "metadata": {},
   "outputs": [],
   "source": [
    "map_tiles <- \n",
    "  ggmap::get_stamenmap(bbox = bbox, zoom = 12, maptype = \"toner-hybrid\")\n",
    "\n",
    "# Population density\n",
    "ggmap::ggmap(map_tiles) +\n",
    "  geom_point(\n",
    "    data = map_geo,\n",
    "    aes(x = lon, y = lat),\n",
    "    size = .4,\n",
    "    shape = 16,\n",
    "    color = \"#005986\",\n",
    "    fill = \"#005986\",\n",
    "    alpha = .5) +\n",
    "  geom_point(\n",
    "    data = walmart,\n",
    "    aes(x = x, y = y),\n",
    "    size = 2,\n",
    "    shape = 21,\n",
    "    color = \"#222222\",\n",
    "    fill = \"#cf1d67\",\n",
    "    alpha = 1) +\n",
    "  pht::ph_map_theme()\n",
    "\n",
    "ggsave(\"vax_outreach_map.png\")"
   ]
  }
 ],
 "metadata": {
  "kernelspec": {
   "display_name": "R 3.6",
   "language": "R",
   "name": "ir36"
  },
  "language_info": {
   "codemirror_mode": "r",
   "file_extension": ".r",
   "mimetype": "text/x-r-source",
   "name": "R",
   "pygments_lexer": "r",
   "version": "3.6.3"
  }
 },
 "nbformat": 4,
 "nbformat_minor": 4
}
